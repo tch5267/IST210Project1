{
 "cells": [
  {
   "cell_type": "markdown",
   "metadata": {},
   "source": [
    "Idea 1: Toll road\n",
    "This idea uses a database system to manage toll boths/payments on toll roads. It is unique as it will need databases to manage the cars going in and out, processing payments etc. This businessed is borrowed. A typical day would include thousands of cars/trucks going in and out of the booth. Table 1 would hold pricing info; i.e. 2 for sedans, 3 for minivans 5 for trucks, 6 for tractor-trailers etc. A 2nd database would hold data pretaining to each lane. i.e. on mondays between 6am-9am, lanes 1-6 will be open for cars, 7-10 for trucks. While on tuesdays between 11am-3pm, lanes 1-3 would be open for cars, while 4-10 for tucks. Table 3 will hold info on payments, i.e. ez-pass ID, credit card numbers, etc. Table 4 would gather satistacl info, i.e. lane 3 in this range on time on this day made x amount of money, it had x amount of cars/trucks etc. Table 5 would gather info on vehicles, plate number, make, model, color etc ![](https://www.draw.io/?lightbox=1&highlight=0000ff&edit=_blank&layers=1&nav=1&title=StoreChart.drawio#R7VtbU9s6EP41eYTxNZdHYmgPM7TlHJi251HYSqKpLGVkhST99WdlS%2FFFAdIYMHDcMiFa3ffb3W%2B9CQM%2FSjefBVouvvAE04HnJJuBfz7wPNfxAvilJNtCEg7dQjAXJNGDSsEN%2BY3NTC1dkQRntYGScyrJsi6MOWM4ljUZEoKv68NmnNZ3XaI5tgQ3MaK29AdJ5KKQjkOnlP%2BFyXxhdnYd3ZMiM1gLsgVK%2BLoi8i8GfiQ4l8W7dBNhqpRn9FLM%2B%2FRA7%2B5gAjN5yIT1bRp8x%2Byre3d9d%2Fb955TeZ9GJXuUe0ZW%2B8EW6pHyLMUgv2Yzrs8utUUi2JilFDFrTGWfyRvc40I4XhCZXaMtX6kCZRPEv05ouuCC%2FYTyi0OWCALqF1Hh7Q7UaoTTilIt8Hx876n9t5o1aUe8lcAZzr83t3YboC9rUBl6hTJpTckrRMiN3%2BbnVxBSJOWFTLiVP9SBzy0%2F1Q83yf9CPKJkzkMWwFxZGF8Vt3ADaNjpG1VhIvKmINFqfMU%2BxFFsYontH2nC054x1c12aoTvUskXVBB3tckib%2Fny3cmkd8EYbyB8Yi%2FeosZxbpgL3lDnSgv%2FCRouMF7ZTUawWZUsUEza%2FwjN1k6CU%2FKMvp0Qc9DejuR8tSJJgpiDmEkl0t7PDJSdM5pcPp%2FADOoqc03AQwpkiaLtlG37UcCEjzuCYiORgYTCWNVYGU4PV2wvro271NNYaXPCAg8A1454dW9%2FC9pakCteIcnA6mM3UtiyB12%2Fg0T3WR2Mdeh1jHVhYf12liqPRNuuBPR7Y0bhjYEML2Et2D5fkeu2ex7vgcX%2Fy1oh8aNnJFIkYcvfe%2By1fej8UPrJQvRYkxoPIG5w5PbLHI9s5YY8tZG9knpX1mB6LaedcPbEwPYtjvmIS9N%2BT9Vt56PbdzsnanKDK1quMMJxBsu7cog3uk3bbrd4Pbbt2De4G0R7UNqB2ztiuXSu7ZNlKIBb3SXYLYDunbdculF3xGEkCiulpuzPaDpwGb3vd87ZdZotUfrenFvP%2FDQA7d3pHfG1X2cDZZB%2FW26DaPWHbNbGIyN5V24DaPVnvKYkpPYKIz%2BBF5dk9aXdG2uM6Z4fBoZxtBj6%2FwdiVtmu0TXFuMrfbZV9MfdDF3hGB26W3S4nTHtQWoHbO355dJft7hZjsObwdsIdyuO%2B9FLAPlsdU7bPHtgW27qHFbf%2Bl%2BNazy2QWopglZ%2BqLnCoZoSjLSKxyJpmaPAtviPypUDgd%2BWPd%2Flf1nbrwqFa0z02ylDe2lcY1FgTuolKcQqYe0IvlwklgBGq9E%2BfUKTZQknLFvLWttpprPpgqZXwlYvyIfnQJATLJOT6gjoaT2pdZbeArQId7cDYygSmS5B7XDrsPfL2DSarNFx7cemJn5WvFvfWs0oSeXMhzGgsVirEWym1xd%2B0W5mkX%2B74gphQpObwU7%2FcHoIqB5gn6g6FCRQO0kjzTHl%2FJvWkelabKoUmM6JkWS74s49StapyfPFNGvkPKKNwbWRFiso%2FWXyxA2EW0FgEiGPr1ADHxWgWIanhwnogMxweB8YFBwDygv5Eo0PgkdRQeGQTCsGGT41cOAna97xvDHzcGBH5D34Gd249fNQbYpbk%2FjwE7r635bOnCz%2B61Jh170m3HH9JrXa%2Bx0GtTt136s7x2iFLlRewuW%2B6g%2Fihe3AQyMJ9zdcbkdmmtBZM7bpXJnXZM7p46zrAeF0bDyetm%2BuZTpadZ3nlT8cJvsIXfZOeDc%2F1GNdhvPnS%2BdMCwq4KVgKGqBR8qPjQfrfw9LD96nvgAzfKvHAu4yr8V9S%2F%2BAw%3D%3D)\n",
    "\n",
    "Idea 2: Music\n",
    "This idea uses a database system to categorize songs on a music streaming platform. This idea is inspired from platforms like Spotify, Apple Music and Soundcloud, which likely use similar database systems in order to make it easier for the user to navigate large amounts of music in order to find the type of music that interests them.\n",
    "Table 1 -  Song Description - this keeps track of song characteristics that will make it easier for the user to navigate the platform to find the songs or type of music they are looking for. Examples, genre, artist, song name\n",
    "Table 2 - Song Popularity - This keeps track of parameters like how many times a song has been been played, how a song is rated, and what demographics make up the audience for a song. This is useful for creating things like top charts globally or for a specific area, or to help user find popular songs that fit into their musical tastes.\n",
    "Table 3 - Customer Account - This keeps track of properties of a customers account for the platform. This includes things like a customerID, their name and address, their favorite songs, artists, and genres, as well as if they have a membership to the platform or not.\n",
    "Table 4 - Membership Transaction - This will keep track of membership purchases, and would include transaction ID, the cost of the transaction, and what time the membership was purchased to keep track of when the subscription must be renewed.\n",
    "Table 5 - Friends list - This table would hold data about a user's friends that they have added in the app, like the userID of each friend, and the songs and playlists the friend listens to. This will allow the user to find new music through friends that share similar musical tastes to them. ![](https://www.draw.io/?lightbox=1&highlight=0000ff&edit=_blank&layers=1&nav=1&title=StoreChart.drawio#R7VtbU9s6EP41eYTxNZdHYmgPM7TlHJi251HYSqKpLGVkhST99WdlS%2FFFAdIYMHDcMiFa3ffb3W%2B9CQM%2FSjefBVouvvAE04HnJJuBfz7wPNfxAvilJNtCEg7dQjAXJNGDSsEN%2BY3NTC1dkQRntYGScyrJsi6MOWM4ljUZEoKv68NmnNZ3XaI5tgQ3MaK29AdJ5KKQjkOnlP%2BFyXxhdnYd3ZMiM1gLsgVK%2BLoi8i8GfiQ4l8W7dBNhqpRn9FLM%2B%2FRA7%2B5gAjN5yIT1bRp8x%2Byre3d9d%2Fb955TeZ9GJXuUe0ZW%2B8EW6pHyLMUgv2Yzrs8utUUi2JilFDFrTGWfyRvc40I4XhCZXaMtX6kCZRPEv05ouuCC%2FYTyi0OWCALqF1Hh7Q7UaoTTilIt8Hx876n9t5o1aUe8lcAZzr83t3YboC9rUBl6hTJpTckrRMiN3%2BbnVxBSJOWFTLiVP9SBzy0%2F1Q83yf9CPKJkzkMWwFxZGF8Vt3ADaNjpG1VhIvKmINFqfMU%2BxFFsYontH2nC054x1c12aoTvUskXVBB3tckib%2Fny3cmkd8EYbyB8Yi%2FeosZxbpgL3lDnSgv%2FCRouMF7ZTUawWZUsUEza%2FwjN1k6CU%2FKMvp0Qc9DejuR8tSJJgpiDmEkl0t7PDJSdM5pcPp%2FADOoqc03AQwpkiaLtlG37UcCEjzuCYiORgYTCWNVYGU4PV2wvro271NNYaXPCAg8A1454dW9%2FC9pakCteIcnA6mM3UtiyB12%2Fg0T3WR2Mdeh1jHVhYf12liqPRNuuBPR7Y0bhjYEML2Et2D5fkeu2ex7vgcX%2Fy1oh8aNnJFIkYcvfe%2By1fej8UPrJQvRYkxoPIG5w5PbLHI9s5YY8tZG9knpX1mB6LaedcPbEwPYtjvmIS9N%2BT9Vt56PbdzsnanKDK1quMMJxBsu7cog3uk3bbrd4Pbbt2De4G0R7UNqB2ztiuXSu7ZNlKIBb3SXYLYDunbdculF3xGEkCiulpuzPaDpwGb3vd87ZdZotUfrenFvP%2FDQA7d3pHfG1X2cDZZB%2FW26DaPWHbNbGIyN5V24DaPVnvKYkpPYKIz%2BBF5dk9aXdG2uM6Z4fBoZxtBj6%2FwdiVtmu0TXFuMrfbZV9MfdDF3hGB26W3S4nTHtQWoHbO355dJft7hZjsObwdsIdyuO%2B9FLAPlsdU7bPHtgW27qHFbf%2Bl%2BNazy2QWopglZ%2BqLnCoZoSjLSKxyJpmaPAtviPypUDgd%2BWPd%2Flf1nbrwqFa0z02ylDe2lcY1FgTuolKcQqYe0IvlwklgBGq9E%2BfUKTZQknLFvLWttpprPpgqZXwlYvyIfnQJATLJOT6gjoaT2pdZbeArQId7cDYygSmS5B7XDrsPfL2DSarNFx7cemJn5WvFvfWs0oSeXMhzGgsVirEWym1xd%2B0W5mkX%2B74gphQpObwU7%2FcHoIqB5gn6g6FCRQO0kjzTHl%2FJvWkelabKoUmM6JkWS74s49StapyfPFNGvkPKKNwbWRFiso%2FWXyxA2EW0FgEiGPr1ADHxWgWIanhwnogMxweB8YFBwDygv5Eo0PgkdRQeGQTCsGGT41cOAna97xvDHzcGBH5D34Gd249fNQbYpbk%2FjwE7r635bOnCz%2B61Jh170m3HH9JrXa%2Bx0GtTt136s7x2iFLlRewuW%2B6g%2Fihe3AQyMJ9zdcbkdmmtBZM7bpXJnXZM7p46zrAeF0bDyetm%2BuZTpadZ3nlT8cJvsIXfZOeDc%2F1GNdhvPnS%2BdMCwq4KVgKGqBR8qPjQfrfw9LD96nvgAzfKvHAu4yr8V9S%2F%2BAw%3D%3D)\n",
    "\n",
    "Idea 3: Gas Station\n",
    "This idea uses a database system to maintain and manage a gas station. A good database system is a very helpful tool for a gas station to keep it organized and professional. A typical day includes hundreds of people coming in and out buying food, drinks, small accessories, and most importantly, gas. The first database will hold employee data. For example, employee ID number, days available for scheduling, their schedule for the week, times clocked in and out, hours worked in the week and monthly hours. Table 2 will be for inventory, i.e. barcodes, what is in stock, prices of each item, etc. Table 4 will keep track of the different locations of the gas stations, i.e. How much each station is selling, buying, money earned and more.\n",
    "Table 1 - Employee Data\n",
    "Table 2 - Inventory\n",
    "Table 3 - Accounting(taxes, sales, insurance etc) \n",
    "Table 4 - Locations\n",
    "Table 5 -  POS\n"
   ]
  },
  {
   "cell_type": "code",
   "execution_count": null,
   "metadata": {},
   "outputs": [],
   "source": []
  }
 ],
 "metadata": {
  "kernelspec": {
   "display_name": "Python 3",
   "language": "python",
   "name": "python3"
  },
  "language_info": {
   "codemirror_mode": {
    "name": "ipython",
    "version": 3
   },
   "file_extension": ".py",
   "mimetype": "text/x-python",
   "name": "python",
   "nbconvert_exporter": "python",
   "pygments_lexer": "ipython3",
   "version": "3.7.3"
  }
 },
 "nbformat": 4,
 "nbformat_minor": 2
}
