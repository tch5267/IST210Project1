{
 "cells": [
  {
   "cell_type": "markdown",
   "metadata": {},
   "source": [
    "Our idea is to create a database that a toll both would use. In the scope of our database, it would only apply to one toll system on a road, not the company as a whole. It is not necessarily a supply chain or a steaming service. We are borrowing this idea from actual toll booths/roads. A day to day operation would be pretty simple. First each lane will be designated a role, i.e accepting cars, accepting trucks, or closed. Then a car will drive into a lane accepting cars, at that moment data on the car(make, model, plate number etc.), will be collected. Once the type of car(minivan, sedan, etc.) is determined, then the user will be prompted to pay. This can be done by using ez-pass, credit/debit card, or cash. Then the car will proceed onto the road. If the car runs the toll booth, then the data collected will be reported to law enforcement for appropriate action.\n",
    " The first table will contain data about the vehicles themselves, assigning each instance of a vehicle passing through a lane a unique ID number. Data collected in this table would be the make, model, plate number of the car, color of the car, year of the car, if the car paid or not, and the costID of the car. The purpose of this database is to hold info about each car that passes through, and in the case of the car not paying, to forward all the car info to law enforcement for proper action. This table is our dynamic data table.\n",
    " The 2nd table contains data about the lanes themselves. This would include data about what lane is open, at what time, and what kind of traffic (cars or trucks). For example, the data might say between 12am and 5am on a Saturday, lanes 1-4 will allow cars, lanes 5-6 will allow trucks, and 7-10 will be closed. The unique key is the DayID and will be useful for another table later. \n",
    "The 3rd table we will use is a cost table. This table will hold data on the cost of specific types of vehicles moving through the tolls. Attributes needed for this is the care model. For example, a small truck would cost 4 dollars to pass through, while a sedan would cost 3 dollars.\n",
    " The 4th table will hold transaction info. This includes the payment method, the base costID, and fee multiplier, and the total cost. The fee multiplier will be based on payment method. If you use an Ez-Pass, you will only pay the base cost. If you use a credit/debit card you will pay twice the base price. If you use cash, you would pay triple the base price. Each transaction will be assigned a transactionID. This ID will also be a foreign key in the vehicleID table.\n",
    " Lastly, the 5th table will hold statistical data. This data is the total number of cars and trucks. It will also provide a breakdown by lane. This data is useful for future business decisions, especially when it comes to what lanes need to be open when. In addition, it will give the dayID to provide a timeframe context. Wait time in this context refers to the amount a time a person has to wait in line to pay the toll.\n"
   ]
  },
  {
   "cell_type": "code",
   "execution_count": null,
   "metadata": {},
   "outputs": [],
   "source": []
  }
 ],
 "metadata": {
  "kernelspec": {
   "display_name": "Python 3",
   "language": "python",
   "name": "python3"
  },
  "language_info": {
   "codemirror_mode": {
    "name": "ipython",
    "version": 3
   },
   "file_extension": ".py",
   "mimetype": "text/x-python",
   "name": "python",
   "nbconvert_exporter": "python",
   "pygments_lexer": "ipython3",
   "version": "3.7.3"
  }
 },
 "nbformat": 4,
 "nbformat_minor": 2
}
